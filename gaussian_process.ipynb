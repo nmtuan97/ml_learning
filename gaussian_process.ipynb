{
 "cells": [
  {
   "cell_type": "code",
   "execution_count": null,
   "metadata": {},
   "outputs": [],
   "source": [
    "import numpy as np\n",
    "import pandas as pd\n",
    "import matplotlib.pyplot as plt\n",
    "import pickle\n",
    "\n",
    "from sklearn.model_selection import train_test_split\n",
    "from sklearn.metrics import r2_score, mean_squared_error, mean_absolute_error\n",
    "from sklearn.preprocessing import MinMaxScaler, OneHotEncoder\n",
    "from sklearn.gaussian_process import GaussianProcessRegressor\n",
    "from sklearn.gaussian_process.kernels import RBF"
   ]
  },
  {
   "cell_type": "code",
   "execution_count": null,
   "metadata": {},
   "outputs": [],
   "source": [
    "data = np.loadtxt(\"E:/nmtuan97/1_scripts/ml_learning/data_test.csv\", delimiter=',')\n",
    "X = data[:,:1]\n",
    "y = data[:,1:2]\n",
    "\n",
    "# noise = np.random.uniform(-25, 25, len(y)).reshape(len(y),1)\n",
    "X = MinMaxScaler().fit_transform(X)\n",
    "# y = y + noise\n",
    "\n",
    "plt.plot(X, y, 'o', label='data looks like')\n",
    "plt.legend()\n",
    "plt.tight_layout()\n",
    "plt.show()"
   ]
  },
  {
   "cell_type": "code",
   "execution_count": null,
   "metadata": {},
   "outputs": [],
   "source": [
    "X_train,X_test,y_train,y_test = train_test_split(X,y,test_size = 0.33)\n",
    "kernel = 1 * RBF(length_scale=280, length_scale_bounds=(1e-2, 1e2))\n",
    "gaussian_process = GaussianProcessRegressor(kernel=kernel, n_restarts_optimizer=9)\n",
    "gaussian_process.fit(X_train, y_train)\n",
    "gaussian_process.kernel_"
   ]
  },
  {
   "cell_type": "code",
   "execution_count": null,
   "metadata": {},
   "outputs": [],
   "source": [
    "r2_ = 0.99\n",
    "r2_train_ = 0.0\n",
    "r2_test_ = 0.0\n",
    "max_ = 0\n",
    "while r2_test_ < float(r2_):\n",
    "    X_train,X_test,y_train,y_test = train_test_split(X,y,test_size = 0.33)\n",
    "    \n",
    "    kernel = 1 * RBF(length_scale=280, length_scale_bounds=(1e-2, 1e2))\n",
    "    gaussian_process = GaussianProcessRegressor(kernel=kernel, n_restarts_optimizer=9)\n",
    "    gaussian_process.fit(X_train, y_train)\n",
    "    \n",
    "    y_train_predicted_svr_, a = gaussian_process.predict(X_train, return_std=True)\n",
    "    y_test_predicted_svr_, a = gaussian_process.predict(X_test, return_std=True)\n",
    "    \n",
    "    rmse_train_ = np.sqrt(mean_squared_error(y_train, y_train_predicted_svr_))\n",
    "    r2_train_ = r2_score(y_train, y_train_predicted_svr_)\n",
    "    mae_train_ = mean_absolute_error(y_train, y_train_predicted_svr_)\n",
    "    # Evaluating test dataset\n",
    "    rmse_test_ = np.sqrt(mean_squared_error(y_test, y_test_predicted_svr_))\n",
    "    r2_test_ = r2_score(y_test, y_test_predicted_svr_)\n",
    "    mae_test_ = mean_absolute_error(y_test, y_test_predicted_svr_)\n",
    "    \n",
    "    if r2_test_ > max_:\n",
    "        max_ = r2_test_\n",
    "        print(\"R2 score of test is {}\".format(max_))\n",
    "        \n",
    "print(\"-------------------------------------------\")\n",
    "print(\"RMSE of training is {}\".format(rmse_train_))\n",
    "print(\"R2 score of training  is {}\".format(r2_train_))\n",
    "print(\"MAE of training is {}\".format(mae_train_))\n",
    "print(\"RMSE of test is {}\".format(rmse_test_))\n",
    "print(\"R2 score of test is {}\".format(max_))\n",
    "print(\"MAE of test is {}\".format(mae_test_))"
   ]
  },
  {
   "cell_type": "code",
   "execution_count": null,
   "metadata": {},
   "outputs": [],
   "source": [
    "X_train,X_test,y_train,y_test = train_test_split(X,y,test_size = 0.33)\n",
    "\n",
    "noise = np.random.uniform(-100, 100, len(y_test)).reshape(len(y_test),1)\n",
    "\n",
    "X_test = np.sort(X_test, axis=0)\n",
    "\n",
    "y_test = np.sort(y_test, axis=0) + noise\n",
    "\n",
    "mean_prediction, std_prediction = gaussian_process.predict(X_test, return_std=True)\n",
    "\n",
    "# score_ = gaussian_process.score(X,y)\n",
    "# print(score_)\n",
    "\n",
    "plt.plot(X_test, y_test, label=r\"$f(x) = x \\sin(x)$\", linestyle=\"dotted\")\n",
    "# plt.scatter(X_train, y_train, label=\"Observations\")\n",
    "plt.plot(X_test, mean_prediction, label=\"Mean prediction\")\n",
    "# plt.fill_between(\n",
    "    # X.ravel(),\n",
    "    # mean_prediction - 1.96 * std_prediction,\n",
    "    # mean_prediction + 1.96 * std_prediction,\n",
    "    # alpha=0.5,\n",
    "    # label=r\"95% confidence interval\",\n",
    "# )\n",
    "# plt.legend()\n",
    "# plt.xlabel(\"$x$\")\n",
    "# plt.ylabel(\"$f(x)$\")\n",
    "# _ = plt.title(\"Gaussian process regression on noise-free dataset\")\n",
    "\n",
    "plt.show()"
   ]
  }
 ],
 "metadata": {
  "language_info": {
   "name": "python"
  },
  "orig_nbformat": 4
 },
 "nbformat": 4,
 "nbformat_minor": 2
}
