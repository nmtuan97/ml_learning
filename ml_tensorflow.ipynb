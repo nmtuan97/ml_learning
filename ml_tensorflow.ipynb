{
 "cells": [
  {
   "cell_type": "code",
   "execution_count": null,
   "metadata": {},
   "outputs": [],
   "source": [
    "import numpy as np\n",
    "import matplotlib.pyplot as plt\n",
    "import graphviz\n",
    "\n",
    "from sklearn.metrics import r2_score, mean_squared_error, mean_absolute_error\n",
    "from sklearn.tree import DecisionTreeRegressor, plot_tree, export_graphviz\n",
    "from sklearn.model_selection import train_test_split\n",
    "from sklearn.svm import SVR\n",
    "\n",
    "import tensorflow as tf\n",
    "from keras.models import Sequential\n",
    "from keras.layers import Dense, Activation\n",
    "from keras.optimizers import adam_v2\n",
    "\n",
    "import rbf_layer\n",
    "from rbf_layer import InitCentersRandom, InitCentersKMeans, RBFLayer"
   ]
  },
  {
   "cell_type": "code",
   "execution_count": null,
   "metadata": {},
   "outputs": [],
   "source": [
    "X = np.arange(10, 50, 2).reshape(-1,1)\n",
    "\n",
    "y = np.arange(1, 5, 0.2).reshape(-1,1)\n",
    "\n",
    "plt.plot(X,y)\n",
    "plt.show()\n",
    "X_test = np.array([30]).reshape(-1,1)\n",
    "dt_reg = DecisionTreeRegressor(max_depth=6)\n",
    "dt_reg.fit(X,y)\n",
    "\n",
    "ypred = dt_reg.predict(X_test)\n",
    "print(ypred)\n",
    "\n",
    "from sklearn.preprocessing import MinMaxScaler\n",
    "X = MinMaxScaler().fit_transform(X)\n",
    "# X_test = MinMaxScaler().fit_transform(X_test)\n",
    "from sklearn.preprocessing import OneHotEncoder\n",
    "ohe = OneHotEncoder()\n",
    "y = ohe.fit_transform(y).toarray()\n",
    "\n",
    "# print(X)\n",
    "# print(y)\n",
    "model = Sequential()\n",
    "rbflayer = RBFLayer(10,\n",
    "                        initializer=InitCentersKMeans(X),\n",
    "                        betas=1,\n",
    "                        input_shape=(len(X[0]),))\n",
    "model.add(rbflayer)\n",
    "model.add(Dense(20))\n",
    "# model.add(Dense(1))\n",
    "# model.add(Activation('sigmoid'))\n",
    "model.compile(optimizer= tf.keras.optimizers.RMSprop(),\n",
    "              loss=tf.keras.losses.MeanSquaredError(),\n",
    "              metrics=['accuracy'])\n",
    "history1 = model.fit(X, y, epochs=500, batch_size=4)\n",
    "y_pred = model.predict(X_test)\n",
    "# print(y_pred)\n",
    "print(ohe.inverse_transform(y_pred))"
   ]
  },
  {
   "cell_type": "code",
   "execution_count": null,
   "metadata": {},
   "outputs": [],
   "source": [
    "plt.plot(history1.history['accuracy'])\n",
    "plt.plot(history1.history['loss'])\n",
    "plt.title('train accuracy and loss')\n",
    "plt.ylabel('Accuracy')\n",
    "plt.xlabel('Epoch')\n",
    "plt.legend(['accuracy', 'loss'], loc='upper left')\n",
    "plt.show()"
   ]
  }
 ],
 "metadata": {
  "language_info": {
   "name": "python"
  },
  "orig_nbformat": 4
 },
 "nbformat": 4,
 "nbformat_minor": 2
}
