{
 "cells": [
  {
   "cell_type": "code",
   "execution_count": 2,
   "metadata": {},
   "outputs": [],
   "source": [
    "import numpy as np\n",
    "import pandas as pd\n",
    "import matplotlib.pyplot as plt\n",
    "import pickle\n",
    "\n",
    "from sklearn.model_selection import train_test_split\n",
    "from sklearn.metrics import r2_score, mean_squared_error, mean_absolute_error\n",
    "from sklearn.tree import DecisionTreeRegressor\n",
    "from sklearn.preprocessing import MinMaxScaler"
   ]
  },
  {
   "cell_type": "code",
   "execution_count": 3,
   "metadata": {},
   "outputs": [
    {
     "data": {
      "image/png": "[encoded data removed]",
      "text/plain": [
       "<Figure size 432x288 with 1 Axes>"
      ]
     },
     "metadata": {
      "needs_background": "light"
     },
     "output_type": "display_data"
    }
   ],
   "source": [
    "data = np.loadtxt(\"E:/nmtuan97/1_scripts/ml_learning/data_test.csv\", delimiter=',')\n",
    "X = data[:,:1]\n",
    "y = data[:,1:2]\n",
    "\n",
    "X = MinMaxScaler().fit_transform(X)\n",
    "\n",
    "plt.plot(X, y, 'o', label='data looks like')\n",
    "plt.legend()\n",
    "plt.tight_layout()\n",
    "plt.show()"
   ]
  },
  {
   "cell_type": "code",
   "execution_count": 4,
   "metadata": {},
   "outputs": [
    {
     "name": "stdout",
     "output_type": "stream",
     "text": [
      "R2 score of test is 0.9761421181231869\n",
      "R2 score of test is 0.9823761272681796\n",
      "R2 score of test is 0.9835356101600534\n",
      "R2 score of test is 0.9859686593000179\n",
      "R2 score of test is 0.9903466620987842\n",
      "-------------------------------------------\n",
      "RMSE of training is 15.035708373455858\n",
      "R2 score of training  is 0.9821832580000168\n",
      "MAE of training is 12.227936568360835\n",
      "RMSE of test is 18.346235215359492\n",
      "R2 score of test is 0.9903466620987842\n",
      "MAE of test is 16.109358541005736\n"
     ]
    }
   ],
   "source": [
    "#train model using decision tree\n",
    "r2_ = 0.99\n",
    "r2_train_ = 0.0\n",
    "r2_test_ = 0.0\n",
    "max_ = 0\n",
    "while r2_test_ < float(r2_):\n",
    "    X_train,X_test,y_train,y_test = train_test_split(X,y,test_size = 0.2)\n",
    "    \n",
    "    dt_reg = DecisionTreeRegressor(max_depth=5)\n",
    "    dt_reg.fit(X_train, y_train)\n",
    "    \n",
    "    y_train_predicted_svr_ = dt_reg.predict(X_train)\n",
    "    y_test_predicted_svr_ = dt_reg.predict(X_test)\n",
    "    \n",
    "    rmse_train_ = np.sqrt(mean_squared_error(y_train, y_train_predicted_svr_))\n",
    "    r2_train_ = r2_score(y_train, y_train_predicted_svr_)\n",
    "    mae_train_ = mean_absolute_error(y_train, y_train_predicted_svr_)\n",
    "    # Evaluating test dataset\n",
    "    rmse_test_ = np.sqrt(mean_squared_error(y_test, y_test_predicted_svr_))\n",
    "    r2_test_ = r2_score(y_test, y_test_predicted_svr_)\n",
    "    mae_test_ = mean_absolute_error(y_test, y_test_predicted_svr_)\n",
    "    \n",
    "    if r2_test_ > max_:\n",
    "        max_ = r2_test_\n",
    "        print(\"R2 score of test is {}\".format(max_))\n",
    "        \n",
    "print(\"-------------------------------------------\")\n",
    "print(\"RMSE of training is {}\".format(rmse_train_))\n",
    "print(\"R2 score of training  is {}\".format(r2_train_))\n",
    "print(\"MAE of training is {}\".format(mae_train_))\n",
    "print(\"RMSE of test is {}\".format(rmse_test_))\n",
    "print(\"R2 score of test is {}\".format(max_))\n",
    "print(\"MAE of test is {}\".format(mae_test_))"
   ]
  },
  {
   "cell_type": "code",
   "execution_count": 7,
   "metadata": {},
   "outputs": [
    {
     "data": {
      "image/png": "[encoded data removed]",
      "text/plain": [
       "<Figure size 432x288 with 1 Axes>"
      ]
     },
     "metadata": {
      "needs_background": "light"
     },
     "output_type": "display_data"
    }
   ],
   "source": [
    "# dt_model_ = f\"dt_model.pickle\"\n",
    "# print(f\"Save model to file {dt_model_} ... \", end=\"\")\n",
    "# pickle.dump(dt_reg, open(dt_model_, \"wb\"))\n",
    "# print(\"OK\")\n",
    "\n",
    "X_train,X_test,y_train,y_test = train_test_split(X,y,test_size = 0.2)\n",
    "\n",
    "X_test = np.sort(X_test, axis=0)\n",
    "y_test = np.sort(y_test, axis=0)\n",
    "\n",
    "y_pred_3 = dt_reg.predict(X_test)\n",
    "\n",
    "plt.plot(X_test, y_test, 'o', label='validation')\n",
    "plt.plot(X_test, y_pred_3, '-', label='Decision Tree')\n",
    "plt.legend()\n",
    "plt.tight_layout()\n",
    "plt.show()"
   ]
  },
  {
   "cell_type": "code",
   "execution_count": 8,
   "metadata": {},
   "outputs": [
    {
     "name": "stdout",
     "output_type": "stream",
     "text": [
      "R2 score of train is 0.7038308825577638\n",
      "R2 score of test is 0.761579021895932\n",
      "R2 score of train is 0.9293745716476673\n",
      "R2 score of test is 0.8709207488819113\n",
      "R2 score of train is 0.9743360645302238\n",
      "R2 score of test is 0.9585051907677694\n",
      "R2 score of train is 0.9868564579729976\n",
      "R2 score of test is 0.9683966499874079\n",
      "R2 score of train is 0.9880755415300313\n",
      "R2 score of test is 0.9782962813463931\n",
      "R2 score of train is 0.9882049684097425\n",
      "R2 score of test is 0.979283906544235\n",
      "R2 score of train is 0.9935038490886162\n",
      "R2 score of test is 0.9591600216921864\n",
      "R2 score of train is 0.9948517784261073\n",
      "R2 score of test is 0.9745811853227972\n",
      "R2 score of train is 0.9965574168068164\n",
      "R2 score of test is 0.9807783712416964\n",
      "R2 score of train is 0.99866821834849\n",
      "R2 score of test is 0.9431730323838524\n",
      "R2 score of train is 0.9987391330299511\n",
      "R2 score of test is 0.9779406442941444\n",
      "R2 score of train is 0.9993371697907195\n",
      "R2 score of test is 0.9713092012961989\n",
      "R2 score of train is 0.9990796430650345\n",
      "R2 score of test is 0.9669792343933539\n",
      "R2 score of train is 1.0\n",
      "R2 score of test is 0.9627826138719635\n",
      "R2 score of train is 0.999997760988809\n",
      "R2 score of test is 0.9503478906952327\n",
      "R2 score of train is 1.0\n",
      "R2 score of test is 0.9686180542657961\n",
      "R2 score of train is 1.0\n",
      "R2 score of test is 0.9775102038452664\n",
      "R2 score of train is 1.0\n",
      "R2 score of test is 0.9756720714058953\n",
      "R2 score of train is 1.0\n",
      "R2 score of test is 0.9741714965280279\n",
      "R2 score of train is 1.0\n",
      "R2 score of test is 0.9539657415515802\n",
      "R2 score of train is 1.0\n",
      "R2 score of test is 0.961152199196275\n",
      "R2 score of train is 1.0\n",
      "R2 score of test is 0.9544066031140501\n",
      "R2 score of train is 1.0\n",
      "R2 score of test is 0.9510069487717099\n",
      "R2 score of train is 1.0\n",
      "R2 score of test is 0.9680104336354604\n",
      "R2 score of train is 1.0\n",
      "R2 score of test is 0.9735436179729129\n",
      "R2 score of train is 1.0\n",
      "R2 score of test is 0.9710008072503984\n",
      "R2 score of train is 1.0\n",
      "R2 score of test is 0.9530248501700943\n",
      "R2 score of train is 1.0\n",
      "R2 score of test is 0.9684469307515096\n",
      "R2 score of train is 1.0\n",
      "R2 score of test is 0.9574171487148009\n",
      "R2 score of train is 1.0\n",
      "R2 score of test is 0.9571382130319387\n"
     ]
    }
   ],
   "source": [
    "# find max depth for model\n",
    "\n",
    "max_depth_ = [1,2,3,4,5,6,7,8,9,10,11,12,13,14,15,16,17,18,19,20,21,22,23,24,25,26,27,28,29,30]\n",
    "\n",
    "# TRAINING ERROR PER DEGREE\n",
    "train_mae_errors = []\n",
    "# TEST ERROR PER DEGREE\n",
    "test_mae_errors = []\n",
    "\n",
    "r2_ = 0.98\n",
    "r2_train_ = 0.0\n",
    "r2_test_ = 0.0\n",
    "max_ = 0\n",
    "\n",
    "for d in max_depth_:\n",
    "    X_train,X_test,y_train,y_test = train_test_split(X,y,test_size = 0.25)\n",
    "    \n",
    "    dt_reg = DecisionTreeRegressor(max_depth=d)\n",
    "    dt_reg.fit(X_train, y_train)\n",
    "    \n",
    "    y_train_predicted_svr_ = dt_reg.predict(X_train)\n",
    "    y_test_predicted_svr_ = dt_reg.predict(X_test)\n",
    "    \n",
    "    rmse_train_ = np.sqrt(mean_squared_error(y_train, y_train_predicted_svr_))\n",
    "    r2_train_ = r2_score(y_train, y_train_predicted_svr_)\n",
    "    mae_train_ = mean_absolute_error(y_train, y_train_predicted_svr_)\n",
    "    # Evaluating test dataset\n",
    "    rmse_test_ = np.sqrt(mean_squared_error(y_test, y_test_predicted_svr_))\n",
    "    r2_test_ = r2_score(y_test, y_test_predicted_svr_)\n",
    "    mae_test_ = mean_absolute_error(y_test, y_test_predicted_svr_)\n",
    "    \n",
    "    print(\"R2 score of train is {}\".format(r2_train_))\n",
    "    print(\"R2 score of test is {}\".format(r2_test_))\n",
    "        \n",
    "    train_mae_errors.append(mae_train_)\n",
    "    test_mae_errors.append(mae_test_)"
   ]
  },
  {
   "cell_type": "code",
   "execution_count": 9,
   "metadata": {},
   "outputs": [
    {
     "data": {
      "image/png": "[encoded data removed]",
      "text/plain": [
       "<Figure size 432x288 with 1 Axes>"
      ]
     },
     "metadata": {
      "needs_background": "light"
     },
     "output_type": "display_data"
    }
   ],
   "source": [
    "plt.plot(max_depth_, train_mae_errors,label='TRAIN')\n",
    "plt.plot(max_depth_,test_mae_errors,label='TEST')\n",
    "plt.xlabel(\"max depth\")\n",
    "plt.ylabel(\"Mean Absolute Error\")\n",
    "plt.legend()\n",
    "plt.show()"
   ]
  }
 ],
 "metadata": {
  "kernelspec": {
   "display_name": "Python 3",
   "language": "python",
   "name": "python3"
  },
  "language_info": {
   "codemirror_mode": {
    "name": "ipython",
    "version": 3
   },
   "file_extension": ".py",
   "mimetype": "text/x-python",
   "name": "python",
   "nbconvert_exporter": "python",
   "pygments_lexer": "ipython3",
   "version": "3.6.7"
  },
  "orig_nbformat": 4
 },
 "nbformat": 4,
 "nbformat_minor": 2
}
