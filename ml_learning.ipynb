{
 "cells": [
  {
   "cell_type": "code",
   "execution_count": 27,
   "metadata": {},
   "outputs": [],
   "source": [
    "import numpy as np\n",
    "import matplotlib.pyplot as plt\n",
    "\n",
    "from sklearn.metrics import r2_score, mean_squared_error, mean_absolute_error\n",
    "from sklearn.tree import DecisionTreeRegressor, plot_tree, export_graphviz\n",
    "from sklearn.model_selection import train_test_split\n",
    "from sklearn.svm import SVR\n",
    "from sklearn.preprocessing import MinMaxScaler,StandardScaler,Normalizer\n",
    "\n",
    "import tensorflow as tf\n",
    "from keras.models import Sequential\n",
    "from keras.layers import Dense, Activation\n",
    "from keras.optimizers import adam_v2\n",
    "\n",
    "import rbf_layer\n",
    "from rbf_layer import InitCentersRandom, InitCentersKMeans, RBFLayer"
   ]
  },
  {
   "cell_type": "code",
   "execution_count": null,
   "metadata": {},
   "outputs": [],
   "source": [
    "X = np.arange(10, 50, 2).reshape(-1,1)\n",
    "\n",
    "y = np.arange(1, 5, 0.2).reshape(-1,1)\n",
    "\n",
    "plt.plot(X,y)\n",
    "plt.show()\n",
    "X_test = np.array([30]).reshape(-1,1)\n",
    "dt_reg = DecisionTreeRegressor(max_depth=6)\n",
    "dt_reg.fit(X,y)\n",
    "\n",
    "ypred = dt_reg.predict(X_test)\n",
    "print(ypred)\n",
    "\n",
    "from sklearn.preprocessing import MinMaxScaler\n",
    "X = MinMaxScaler().fit_transform(X)\n",
    "# X_test = MinMaxScaler().fit_transform(X_test)\n",
    "from sklearn.preprocessing import OneHotEncoder\n",
    "ohe = OneHotEncoder()\n",
    "y = ohe.fit_transform(y).toarray()\n",
    "\n",
    "# print(X)\n",
    "# print(y)\n",
    "model = Sequential()\n",
    "rbflayer = RBFLayer(10,\n",
    "                        initializer=InitCentersKMeans(X),\n",
    "                        betas=1,\n",
    "                        input_shape=(len(X[0]),))\n",
    "model.add(rbflayer)\n",
    "model.add(Dense(20))\n",
    "# model.add(Dense(1))\n",
    "# model.add(Activation('sigmoid'))\n",
    "model.compile(optimizer= tf.keras.optimizers.RMSprop(),\n",
    "              loss=tf.keras.losses.MeanSquaredError(),\n",
    "              metrics=['accuracy'])\n",
    "history1 = model.fit(X, y, epochs=500, batch_size=4)\n",
    "y_pred = model.predict(X_test)\n",
    "# print(y_pred)\n",
    "print(ohe.inverse_transform(y_pred))"
   ]
  },
  {
   "cell_type": "code",
   "execution_count": null,
   "metadata": {},
   "outputs": [],
   "source": [
    "plt.plot(history1.history['accuracy'])\n",
    "plt.plot(history1.history['loss'])\n",
    "plt.title('train accuracy and loss')\n",
    "plt.ylabel('Accuracy')\n",
    "plt.xlabel('Epoch')\n",
    "plt.legend(['accuracy', 'loss'], loc='upper left')\n",
    "plt.show()"
   ]
  },
  {
   "cell_type": "code",
   "execution_count": 53,
   "metadata": {},
   "outputs": [
    {
     "name": "stdout",
     "output_type": "stream",
     "text": [
      "[[ 1  2  3  4  5  6]\n",
      " [ 7  8  9 10 11 12]]\n",
      "[[ 8  9 10 11 12 13]]\n",
      "MinMaxScaler()\n",
      "StandardScaler()\n",
      "[[0.10482848 0.20965697 0.31448545 0.41931393 0.52414242 0.6289709 ]\n",
      " [0.29606845 0.33836395 0.38065944 0.42295493 0.46525043 0.50754592]]\n",
      "[[1.16666667 1.16666667 1.16666667 1.16666667 1.16666667 1.16666667]]\n",
      "[[1.33333333 1.33333333 1.33333333 1.33333333 1.33333333 1.33333333]]\n"
     ]
    }
   ],
   "source": [
    "x = np.arange(1,13,1).reshape(2,6)\n",
    "y = np.arange(8,14,1).reshape(1,6)\n",
    "print(x)\n",
    "print(y)\n",
    "X = MinMaxScaler().fit(x)\n",
    "Xs = StandardScaler().fit(x)\n",
    "Xn = Normalizer().fit_transform(x)\n",
    "print(X)\n",
    "print(Xs)\n",
    "print(Xn)\n",
    "Y = X.transform(y)\n",
    "Ys = Xs.transform(y)\n",
    "# Yn = Xn.transform(y)\n",
    "print(Y)\n",
    "print(Ys)\n",
    "# print(Yn)"
   ]
  }
 ],
 "metadata": {
  "kernelspec": {
   "display_name": "Python 3",
   "language": "python",
   "name": "python3"
  },
  "language_info": {
   "codemirror_mode": {
    "name": "ipython",
    "version": 3
   },
   "file_extension": ".py",
   "mimetype": "text/x-python",
   "name": "python",
   "nbconvert_exporter": "python",
   "pygments_lexer": "ipython3",
   "version": "3.6.7"
  },
  "orig_nbformat": 4
 },
 "nbformat": 4,
 "nbformat_minor": 2
}
