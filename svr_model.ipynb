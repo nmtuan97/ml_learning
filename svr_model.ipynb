{
 "cells": [
  {
   "cell_type": "code",
   "execution_count": null,
   "metadata": {},
   "outputs": [],
   "source": [
    "import numpy as np\n",
    "import pandas as pd\n",
    "import matplotlib.pyplot as plt\n",
    "import pickle\n",
    "\n",
    "from sklearn.model_selection import train_test_split\n",
    "from sklearn.metrics import r2_score, mean_squared_error, mean_absolute_error\n",
    "from sklearn.svm import SVR\n",
    "from sklearn.tree import DecisionTreeRegressor\n",
    "from sklearn.preprocessing import MinMaxScaler, OneHotEncoder\n",
    "from sklearn.gaussian_process import GaussianProcessRegressor\n",
    "from sklearn.gaussian_process.kernels import RBF"
   ]
  },
  {
   "cell_type": "code",
   "execution_count": null,
   "metadata": {},
   "outputs": [],
   "source": [
    "data = np.loadtxt(\"E:/nmtuan97/1_scripts/ml_learning/data_test.csv\", delimiter=',')\n",
    "X = data[:,:1]\n",
    "y = data[:,1:2]\n",
    "\n",
    "X = MinMaxScaler().fit_transform(X)\n",
    "\n",
    "X_for_train,X_test,y_for_train,y_test = train_test_split(X,y,test_size = 0.2)\n",
    "# sorted_x = np.sort(X_train)\n",
    "# sorted_y = np.sort(y_train)\n",
    "\n",
    "plt.plot(X, y, 'o', label='data looks like')\n",
    "plt.legend()\n",
    "plt.tight_layout()\n",
    "plt.show()"
   ]
  },
  {
   "cell_type": "code",
   "execution_count": null,
   "metadata": {},
   "outputs": [],
   "source": [
    "# find optimal parameter for model\n",
    "\n",
    "# TRAINING ERROR PER DEGREE\n",
    "train_rmse_errors = []\n",
    "# TEST ERROR PER DEGREE\n",
    "test_rmse_errors = []\n",
    "\n",
    "gamma_ = np.arange(25,1000,25)\n",
    "\n",
    "for g in gamma_:\n",
    "    X_train,X_cv,y_train,y_cv = train_test_split(X_for_train,y_for_train,test_size = 0.25)\n",
    "    \n",
    "    svr_model = SVR(kernel = 'rbf', C=350000, gamma=g)\n",
    "    svr_model.fit(X_train, y_train)\n",
    "    \n",
    "    y_train_predicted_svr_ = svr_model.predict(X_train)\n",
    "    y_cv_svr_ = svr_model.predict(X_cv)\n",
    "    \n",
    "    rmse_train_ = np.sqrt(mean_squared_error(y_train, y_train_predicted_svr_))\n",
    "    rmse_cv_ = np.sqrt(mean_squared_error(y_cv, y_cv_svr_))\n",
    "    \n",
    "    train_rmse_errors.append(rmse_train_)\n",
    "    test_rmse_errors.append(rmse_cv_)\n",
    "\n",
    "# default_x_ticks = range(len(gamma_))   \n",
    "plt.plot(gamma_, train_rmse_errors, '-', label='train rmse values')\n",
    "plt.plot(gamma_, test_rmse_errors, '-', label='test rmse values')\n",
    "# plt.xticks(default_x_ticks, gamma_)\n",
    "plt.legend()\n",
    "plt.tight_layout()\n",
    "plt.show()"
   ]
  },
  {
   "cell_type": "code",
   "execution_count": null,
   "metadata": {},
   "outputs": [],
   "source": [
    "# train model using svr method\n",
    "r2_ = 0.99\n",
    "r2_train_ = 0.0\n",
    "r2_cv_ = 0.0\n",
    "max_ = 0\n",
    "while r2_cv_ < float(r2_):\n",
    "    X_train,X_cv,y_train,y_cv = train_test_split(X_for_train,y_for_train,test_size = 0.25)\n",
    "    \n",
    "    svr_model = SVR(kernel = 'rbf', C=350000, gamma=325)\n",
    "    svr_model.fit(X_train, y_train)\n",
    "    \n",
    "    y_train_predicted_svr_ = svr_model.predict(X_train)\n",
    "    y_cv_svr_ = svr_model.predict(X_cv)\n",
    "    \n",
    "    rmse_train_ = np.sqrt(mean_squared_error(y_train, y_train_predicted_svr_))\n",
    "    r2_train_ = r2_score(y_train, y_train_predicted_svr_)\n",
    "    mae_train_ = mean_absolute_error(y_train, y_train_predicted_svr_)\n",
    "    # Evaluating test dataset\n",
    "    rmse_test_ = np.sqrt(mean_squared_error(y_cv, y_cv_svr_))\n",
    "    r2_cv_ = r2_score(y_cv, y_cv_svr_)\n",
    "    mae_test_ = mean_absolute_error(y_cv, y_cv_svr_)\n",
    "    \n",
    "    if r2_cv_ > max_:\n",
    "        max_ = r2_cv_\n",
    "        print(\"R2 score of test is {}\".format(max_))\n",
    "        \n",
    "print(\"-------------------------------------------\")\n",
    "print(\"RMSE of training is {}\".format(rmse_train_))\n",
    "print(\"R2 score of training  is {}\".format(r2_train_))\n",
    "print(\"MAE of training is {}\".format(mae_train_))\n",
    "print(\"RMSE of test is {}\".format(rmse_test_))\n",
    "print(\"R2 score of test is {}\".format(max_))\n",
    "print(\"MAE of test is {}\".format(mae_test_))"
   ]
  },
  {
   "cell_type": "code",
   "execution_count": null,
   "metadata": {},
   "outputs": [],
   "source": [
    "X_test = np.sort(X_test, axis=0)\n",
    "y_test = np.sort(y_test, axis=0)\n",
    "\n",
    "y_pred_svr = svr_model.predict(X_test)\n",
    "\n",
    "r2_svr = r2_score(y_test, y_pred_svr)\n",
    "print(f'R2 score of test is: {r2_svr}')\n",
    "\n",
    "plt.plot(X_test, y_test, 'o', label='true')\n",
    "plt.plot(X_test, y_pred_svr, '-', label='SVR')\n",
    "plt.legend()\n",
    "plt.tight_layout()\n",
    "plt.show()"
   ]
  }
 ],
 "metadata": {
  "kernelspec": {
   "display_name": "Python 3",
   "language": "python",
   "name": "python3"
  },
  "language_info": {
   "codemirror_mode": {
    "name": "ipython",
    "version": 3
   },
   "file_extension": ".py",
   "mimetype": "text/x-python",
   "name": "python",
   "nbconvert_exporter": "python",
   "pygments_lexer": "ipython3",
   "version": "3.6.7"
  },
  "orig_nbformat": 4
 },
 "nbformat": 4,
 "nbformat_minor": 2
}
